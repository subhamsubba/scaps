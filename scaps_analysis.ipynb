{
  "nbformat": 4,
  "nbformat_minor": 0,
  "metadata": {
    "colab": {
      "provenance": [],
      "authorship_tag": "ABX9TyNT4BS72LgeNr541FhUoCfa"
    },
    "kernelspec": {
      "name": "python3",
      "display_name": "Python 3"
    },
    "language_info": {
      "name": "python"
    }
  },
  "cells": [
    {
      "cell_type": "markdown",
      "source": [
        "#Importing libraries and scaps dataset"
      ],
      "metadata": {
        "id": "4bA8Ts8UHAAw"
      }
    },
    {
      "cell_type": "code",
      "execution_count": null,
      "metadata": {
        "id": "XS3yJHErHSgU"
      },
      "outputs": [],
      "source": [
        "import pandas as pd\n",
        "import numpy as np\n",
        "import matplotlib.pyplot as plt\n",
        "import seaborn as sns\n",
        "import warnings\n",
        "\n",
        "from IPython.display import display, Math\n",
        "from sklearn.model_selection import train_test_split, GridSearchCV, cross_val_score\n",
        "from sklearn.preprocessing import StandardScaler\n",
        "from sklearn.metrics import mean_squared_error, mean_absolute_error, r2_score"
      ]
    },
    {
      "cell_type": "code",
      "source": [
        "warnings.filterwarnings(\"ignore\")\n",
        "df = pd.read_csv('S1.csv', skiprows=1, encoding='utf-8')\n",
        "pd.set_option('display.max_columns', None)\n",
        "df.head(2)"
      ],
      "metadata": {
        "colab": {
          "base_uri": "https://localhost:8080/",
          "height": 112
        },
        "id": "ndfuzhmEHYKK",
        "outputId": "a1c4436d-51ad-4817-f31d-1f98aa95475f"
      },
      "execution_count": null,
      "outputs": [
        {
          "output_type": "execute_result",
          "data": {
            "text/plain": [
              "           material   Br    Eg    t            Nt            Nd   PCE   Voc  \\\n",
              "0  Cs0.17FA0.83PbI3  0.0  1.55  0.3  1.000000e+12  1.000000e+14  21.7  1.29   \n",
              "1  Cs0.17FA0.83PbI3  0.0  1.55  0.3  1.000000e+12  1.000000e+15  21.8  1.29   \n",
              "\n",
              "    Jsc    FF  \n",
              "0  20.1  83.6  \n",
              "1  20.1  83.8  "
            ],
            "text/html": [
              "\n",
              "  <div id=\"df-3db6730a-cc04-439e-b1f8-f312fd8289d8\" class=\"colab-df-container\">\n",
              "    <div>\n",
              "<style scoped>\n",
              "    .dataframe tbody tr th:only-of-type {\n",
              "        vertical-align: middle;\n",
              "    }\n",
              "\n",
              "    .dataframe tbody tr th {\n",
              "        vertical-align: top;\n",
              "    }\n",
              "\n",
              "    .dataframe thead th {\n",
              "        text-align: right;\n",
              "    }\n",
              "</style>\n",
              "<table border=\"1\" class=\"dataframe\">\n",
              "  <thead>\n",
              "    <tr style=\"text-align: right;\">\n",
              "      <th></th>\n",
              "      <th>material</th>\n",
              "      <th>Br</th>\n",
              "      <th>Eg</th>\n",
              "      <th>t</th>\n",
              "      <th>Nt</th>\n",
              "      <th>Nd</th>\n",
              "      <th>PCE</th>\n",
              "      <th>Voc</th>\n",
              "      <th>Jsc</th>\n",
              "      <th>FF</th>\n",
              "    </tr>\n",
              "  </thead>\n",
              "  <tbody>\n",
              "    <tr>\n",
              "      <th>0</th>\n",
              "      <td>Cs0.17FA0.83PbI3</td>\n",
              "      <td>0.0</td>\n",
              "      <td>1.55</td>\n",
              "      <td>0.3</td>\n",
              "      <td>1.000000e+12</td>\n",
              "      <td>1.000000e+14</td>\n",
              "      <td>21.7</td>\n",
              "      <td>1.29</td>\n",
              "      <td>20.1</td>\n",
              "      <td>83.6</td>\n",
              "    </tr>\n",
              "    <tr>\n",
              "      <th>1</th>\n",
              "      <td>Cs0.17FA0.83PbI3</td>\n",
              "      <td>0.0</td>\n",
              "      <td>1.55</td>\n",
              "      <td>0.3</td>\n",
              "      <td>1.000000e+12</td>\n",
              "      <td>1.000000e+15</td>\n",
              "      <td>21.8</td>\n",
              "      <td>1.29</td>\n",
              "      <td>20.1</td>\n",
              "      <td>83.8</td>\n",
              "    </tr>\n",
              "  </tbody>\n",
              "</table>\n",
              "</div>\n",
              "    <div class=\"colab-df-buttons\">\n",
              "\n",
              "  <div class=\"colab-df-container\">\n",
              "    <button class=\"colab-df-convert\" onclick=\"convertToInteractive('df-3db6730a-cc04-439e-b1f8-f312fd8289d8')\"\n",
              "            title=\"Convert this dataframe to an interactive table.\"\n",
              "            style=\"display:none;\">\n",
              "\n",
              "  <svg xmlns=\"http://www.w3.org/2000/svg\" height=\"24px\" viewBox=\"0 -960 960 960\">\n",
              "    <path d=\"M120-120v-720h720v720H120Zm60-500h600v-160H180v160Zm220 220h160v-160H400v160Zm0 220h160v-160H400v160ZM180-400h160v-160H180v160Zm440 0h160v-160H620v160ZM180-180h160v-160H180v160Zm440 0h160v-160H620v160Z\"/>\n",
              "  </svg>\n",
              "    </button>\n",
              "\n",
              "  <style>\n",
              "    .colab-df-container {\n",
              "      display:flex;\n",
              "      gap: 12px;\n",
              "    }\n",
              "\n",
              "    .colab-df-convert {\n",
              "      background-color: #E8F0FE;\n",
              "      border: none;\n",
              "      border-radius: 50%;\n",
              "      cursor: pointer;\n",
              "      display: none;\n",
              "      fill: #1967D2;\n",
              "      height: 32px;\n",
              "      padding: 0 0 0 0;\n",
              "      width: 32px;\n",
              "    }\n",
              "\n",
              "    .colab-df-convert:hover {\n",
              "      background-color: #E2EBFA;\n",
              "      box-shadow: 0px 1px 2px rgba(60, 64, 67, 0.3), 0px 1px 3px 1px rgba(60, 64, 67, 0.15);\n",
              "      fill: #174EA6;\n",
              "    }\n",
              "\n",
              "    .colab-df-buttons div {\n",
              "      margin-bottom: 4px;\n",
              "    }\n",
              "\n",
              "    [theme=dark] .colab-df-convert {\n",
              "      background-color: #3B4455;\n",
              "      fill: #D2E3FC;\n",
              "    }\n",
              "\n",
              "    [theme=dark] .colab-df-convert:hover {\n",
              "      background-color: #434B5C;\n",
              "      box-shadow: 0px 1px 3px 1px rgba(0, 0, 0, 0.15);\n",
              "      filter: drop-shadow(0px 1px 2px rgba(0, 0, 0, 0.3));\n",
              "      fill: #FFFFFF;\n",
              "    }\n",
              "  </style>\n",
              "\n",
              "    <script>\n",
              "      const buttonEl =\n",
              "        document.querySelector('#df-3db6730a-cc04-439e-b1f8-f312fd8289d8 button.colab-df-convert');\n",
              "      buttonEl.style.display =\n",
              "        google.colab.kernel.accessAllowed ? 'block' : 'none';\n",
              "\n",
              "      async function convertToInteractive(key) {\n",
              "        const element = document.querySelector('#df-3db6730a-cc04-439e-b1f8-f312fd8289d8');\n",
              "        const dataTable =\n",
              "          await google.colab.kernel.invokeFunction('convertToInteractive',\n",
              "                                                    [key], {});\n",
              "        if (!dataTable) return;\n",
              "\n",
              "        const docLinkHtml = 'Like what you see? Visit the ' +\n",
              "          '<a target=\"_blank\" href=https://colab.research.google.com/notebooks/data_table.ipynb>data table notebook</a>'\n",
              "          + ' to learn more about interactive tables.';\n",
              "        element.innerHTML = '';\n",
              "        dataTable['output_type'] = 'display_data';\n",
              "        await google.colab.output.renderOutput(dataTable, element);\n",
              "        const docLink = document.createElement('div');\n",
              "        docLink.innerHTML = docLinkHtml;\n",
              "        element.appendChild(docLink);\n",
              "      }\n",
              "    </script>\n",
              "  </div>\n",
              "\n",
              "\n",
              "<div id=\"df-99fbe84b-792c-4397-8d51-bbb875ca9fc9\">\n",
              "  <button class=\"colab-df-quickchart\" onclick=\"quickchart('df-99fbe84b-792c-4397-8d51-bbb875ca9fc9')\"\n",
              "            title=\"Suggest charts\"\n",
              "            style=\"display:none;\">\n",
              "\n",
              "<svg xmlns=\"http://www.w3.org/2000/svg\" height=\"24px\"viewBox=\"0 0 24 24\"\n",
              "     width=\"24px\">\n",
              "    <g>\n",
              "        <path d=\"M19 3H5c-1.1 0-2 .9-2 2v14c0 1.1.9 2 2 2h14c1.1 0 2-.9 2-2V5c0-1.1-.9-2-2-2zM9 17H7v-7h2v7zm4 0h-2V7h2v10zm4 0h-2v-4h2v4z\"/>\n",
              "    </g>\n",
              "</svg>\n",
              "  </button>\n",
              "\n",
              "<style>\n",
              "  .colab-df-quickchart {\n",
              "      --bg-color: #E8F0FE;\n",
              "      --fill-color: #1967D2;\n",
              "      --hover-bg-color: #E2EBFA;\n",
              "      --hover-fill-color: #174EA6;\n",
              "      --disabled-fill-color: #AAA;\n",
              "      --disabled-bg-color: #DDD;\n",
              "  }\n",
              "\n",
              "  [theme=dark] .colab-df-quickchart {\n",
              "      --bg-color: #3B4455;\n",
              "      --fill-color: #D2E3FC;\n",
              "      --hover-bg-color: #434B5C;\n",
              "      --hover-fill-color: #FFFFFF;\n",
              "      --disabled-bg-color: #3B4455;\n",
              "      --disabled-fill-color: #666;\n",
              "  }\n",
              "\n",
              "  .colab-df-quickchart {\n",
              "    background-color: var(--bg-color);\n",
              "    border: none;\n",
              "    border-radius: 50%;\n",
              "    cursor: pointer;\n",
              "    display: none;\n",
              "    fill: var(--fill-color);\n",
              "    height: 32px;\n",
              "    padding: 0;\n",
              "    width: 32px;\n",
              "  }\n",
              "\n",
              "  .colab-df-quickchart:hover {\n",
              "    background-color: var(--hover-bg-color);\n",
              "    box-shadow: 0 1px 2px rgba(60, 64, 67, 0.3), 0 1px 3px 1px rgba(60, 64, 67, 0.15);\n",
              "    fill: var(--button-hover-fill-color);\n",
              "  }\n",
              "\n",
              "  .colab-df-quickchart-complete:disabled,\n",
              "  .colab-df-quickchart-complete:disabled:hover {\n",
              "    background-color: var(--disabled-bg-color);\n",
              "    fill: var(--disabled-fill-color);\n",
              "    box-shadow: none;\n",
              "  }\n",
              "\n",
              "  .colab-df-spinner {\n",
              "    border: 2px solid var(--fill-color);\n",
              "    border-color: transparent;\n",
              "    border-bottom-color: var(--fill-color);\n",
              "    animation:\n",
              "      spin 1s steps(1) infinite;\n",
              "  }\n",
              "\n",
              "  @keyframes spin {\n",
              "    0% {\n",
              "      border-color: transparent;\n",
              "      border-bottom-color: var(--fill-color);\n",
              "      border-left-color: var(--fill-color);\n",
              "    }\n",
              "    20% {\n",
              "      border-color: transparent;\n",
              "      border-left-color: var(--fill-color);\n",
              "      border-top-color: var(--fill-color);\n",
              "    }\n",
              "    30% {\n",
              "      border-color: transparent;\n",
              "      border-left-color: var(--fill-color);\n",
              "      border-top-color: var(--fill-color);\n",
              "      border-right-color: var(--fill-color);\n",
              "    }\n",
              "    40% {\n",
              "      border-color: transparent;\n",
              "      border-right-color: var(--fill-color);\n",
              "      border-top-color: var(--fill-color);\n",
              "    }\n",
              "    60% {\n",
              "      border-color: transparent;\n",
              "      border-right-color: var(--fill-color);\n",
              "    }\n",
              "    80% {\n",
              "      border-color: transparent;\n",
              "      border-right-color: var(--fill-color);\n",
              "      border-bottom-color: var(--fill-color);\n",
              "    }\n",
              "    90% {\n",
              "      border-color: transparent;\n",
              "      border-bottom-color: var(--fill-color);\n",
              "    }\n",
              "  }\n",
              "</style>\n",
              "\n",
              "  <script>\n",
              "    async function quickchart(key) {\n",
              "      const quickchartButtonEl =\n",
              "        document.querySelector('#' + key + ' button');\n",
              "      quickchartButtonEl.disabled = true;  // To prevent multiple clicks.\n",
              "      quickchartButtonEl.classList.add('colab-df-spinner');\n",
              "      try {\n",
              "        const charts = await google.colab.kernel.invokeFunction(\n",
              "            'suggestCharts', [key], {});\n",
              "      } catch (error) {\n",
              "        console.error('Error during call to suggestCharts:', error);\n",
              "      }\n",
              "      quickchartButtonEl.classList.remove('colab-df-spinner');\n",
              "      quickchartButtonEl.classList.add('colab-df-quickchart-complete');\n",
              "    }\n",
              "    (() => {\n",
              "      let quickchartButtonEl =\n",
              "        document.querySelector('#df-99fbe84b-792c-4397-8d51-bbb875ca9fc9 button');\n",
              "      quickchartButtonEl.style.display =\n",
              "        google.colab.kernel.accessAllowed ? 'block' : 'none';\n",
              "    })();\n",
              "  </script>\n",
              "</div>\n",
              "\n",
              "    </div>\n",
              "  </div>\n"
            ],
            "application/vnd.google.colaboratory.intrinsic+json": {
              "type": "dataframe",
              "variable_name": "df",
              "summary": "{\n  \"name\": \"df\",\n  \"rows\": 3240,\n  \"fields\": [\n    {\n      \"column\": \"material\",\n      \"properties\": {\n        \"dtype\": \"category\",\n        \"num_unique_values\": 6,\n        \"samples\": [\n          \"Cs0.17FA0.83PbI3\",\n          \"Cs0.17FA0.83PbI2.5Br0.5\",\n          \"Cs0.17FA0.83PbI0.5Br2.5\"\n        ],\n        \"semantic_type\": \"\",\n        \"description\": \"\"\n      }\n    },\n    {\n      \"column\": \"Br\",\n      \"properties\": {\n        \"dtype\": \"number\",\n        \"std\": 0.8540443709718846,\n        \"min\": 0.0,\n        \"max\": 2.5,\n        \"num_unique_values\": 6,\n        \"samples\": [\n          0.0,\n          0.5,\n          2.5\n        ],\n        \"semantic_type\": \"\",\n        \"description\": \"\"\n      }\n    },\n    {\n      \"column\": \"Eg\",\n      \"properties\": {\n        \"dtype\": \"number\",\n        \"std\": 0.17776006738307676,\n        \"min\": 1.55,\n        \"max\": 2.07,\n        \"num_unique_values\": 6,\n        \"samples\": [\n          1.55,\n          1.65,\n          2.07\n        ],\n        \"semantic_type\": \"\",\n        \"description\": \"\"\n      }\n    },\n    {\n      \"column\": \"t\",\n      \"properties\": {\n        \"dtype\": \"number\",\n        \"std\": 0.21605803480935593,\n        \"min\": 0.3,\n        \"max\": 1.0,\n        \"num_unique_values\": 15,\n        \"samples\": [\n          0.75,\n          0.85,\n          0.3\n        ],\n        \"semantic_type\": \"\",\n        \"description\": \"\"\n      }\n    },\n    {\n      \"column\": \"Nt\",\n      \"properties\": {\n        \"dtype\": \"number\",\n        \"std\": 3.661940365693553e+16,\n        \"min\": 1000000000000.0,\n        \"max\": 1e+17,\n        \"num_unique_values\": 6,\n        \"samples\": [\n          1000000000000.0,\n          10000000000000.0,\n          1e+17\n        ],\n        \"semantic_type\": \"\",\n        \"description\": \"\"\n      }\n    },\n    {\n      \"column\": \"Nd\",\n      \"properties\": {\n        \"dtype\": \"number\",\n        \"std\": 3.661940365693507e+18,\n        \"min\": 100000000000000.0,\n        \"max\": 1e+19,\n        \"num_unique_values\": 6,\n        \"samples\": [\n          100000000000000.0,\n          1000000000000000.0,\n          1e+19\n        ],\n        \"semantic_type\": \"\",\n        \"description\": \"\"\n      }\n    },\n    {\n      \"column\": \"PCE\",\n      \"properties\": {\n        \"dtype\": \"number\",\n        \"std\": 7.847011103040062,\n        \"min\": 0.0187,\n        \"max\": 29.3,\n        \"num_unique_values\": 1423,\n        \"samples\": [\n          0.102,\n          0.501,\n          3.02\n        ],\n        \"semantic_type\": \"\",\n        \"description\": \"\"\n      }\n    },\n    {\n      \"column\": \"Voc\",\n      \"properties\": {\n        \"dtype\": \"number\",\n        \"std\": 0.1598062087024017,\n        \"min\": 0.568,\n        \"max\": 1.73,\n        \"num_unique_values\": 308,\n        \"samples\": [\n          1.55,\n          1.11,\n          0.983\n        ],\n        \"semantic_type\": \"\",\n        \"description\": \"\"\n      }\n    },\n    {\n      \"column\": \"Jsc\",\n      \"properties\": {\n        \"dtype\": \"number\",\n        \"std\": 7.75058125188385,\n        \"min\": 0.0254,\n        \"max\": 25.4,\n        \"num_unique_values\": 1191,\n        \"samples\": [\n          0.766,\n          1.7,\n          0.0517\n        ],\n        \"semantic_type\": \"\",\n        \"description\": \"\"\n      }\n    },\n    {\n      \"column\": \"FF\",\n      \"properties\": {\n        \"dtype\": \"number\",\n        \"std\": 23.790452968836608,\n        \"min\": 8.71,\n        \"max\": 93.1,\n        \"num_unique_values\": 746,\n        \"samples\": [\n          88.1,\n          81.8,\n          64.0\n        ],\n        \"semantic_type\": \"\",\n        \"description\": \"\"\n      }\n    }\n  ]\n}"
            }
          },
          "metadata": {},
          "execution_count": 2
        }
      ]
    },
    {
      "cell_type": "markdown",
      "source": [
        "#Heatmap"
      ],
      "metadata": {
        "id": "puIU_w9MH77a"
      }
    },
    {
      "cell_type": "code",
      "source": [
        "df1=df.iloc[:,1:]\n",
        "corr_matrix = df1.corr()\n",
        "\n",
        "# Step 4: Draw the heatmap\n",
        "plt.figure(figsize=(4.7, 4))  # Optional: Adjust the figure size for better readability\n",
        "sns.heatmap(corr_matrix, annot=True, cmap='vlag', fmt=\".2f\", linewidths=0.5,  annot_kws={\"size\": 8})\n",
        "plt.title('Correlation Heatmap')\n",
        "plt.savefig('Correlation.png', dpi=300, bbox_inches='tight')\n",
        "plt.show()"
      ],
      "metadata": {
        "colab": {
          "base_uri": "https://localhost:8080/",
          "height": 391
        },
        "id": "MvT33zmVHxYM",
        "outputId": "9ae12635-714b-4bed-c7a3-d47426988221"
      },
      "execution_count": null,
      "outputs": [
        {
          "output_type": "display_data",
          "data": {
            "text/plain": [
              "<Figure size 470x400 with 2 Axes>"
            ],
            "image/png": "[encoded data removed]"
          },
          "metadata": {}
        }
      ]
    },
    {
      "cell_type": "markdown",
      "source": [
        "#Data Prep"
      ],
      "metadata": {
        "id": "sNT2NBs4IQjg"
      }
    },
    {
      "cell_type": "code",
      "source": [
        "dfx=df.iloc[:,1:-4]\n",
        "X=dfx.values\n",
        "y_eta=df.iloc[:,-4].values\n",
        "y_voc=df.iloc[:,-3].values\n",
        "y_jsc=df.iloc[:,-2].values\n",
        "y_ff=df.iloc[:,-1].values\n",
        "y_eta=y_eta.reshape(len(y_eta),1)\n",
        "y_voc=y_voc.reshape(len(y_voc),1)\n",
        "y_jsc=y_jsc.reshape(len(y_jsc),1)\n",
        "y_ff=y_ff.reshape(len(y_ff),1)\n",
        "dfx"
      ],
      "metadata": {
        "colab": {
          "base_uri": "https://localhost:8080/",
          "height": 423
        },
        "id": "y3M52o8PHpNr",
        "outputId": "a53a9f2b-eaf3-4841-dbd1-8fab1854c872"
      },
      "execution_count": null,
      "outputs": [
        {
          "output_type": "execute_result",
          "data": {
            "text/plain": [
              "       Br    Eg    t            Nt            Nd\n",
              "0     0.0  1.55  0.3  1.000000e+12  1.000000e+14\n",
              "1     0.0  1.55  0.3  1.000000e+12  1.000000e+15\n",
              "2     0.0  1.55  0.3  1.000000e+12  1.000000e+16\n",
              "3     0.0  1.55  0.3  1.000000e+12  1.000000e+17\n",
              "4     0.0  1.55  0.3  1.000000e+12  1.000000e+18\n",
              "...   ...   ...  ...           ...           ...\n",
              "3235  2.5  2.07  1.0  1.000000e+17  1.000000e+15\n",
              "3236  2.5  2.07  1.0  1.000000e+17  1.000000e+16\n",
              "3237  2.5  2.07  1.0  1.000000e+17  1.000000e+17\n",
              "3238  2.5  2.07  1.0  1.000000e+17  1.000000e+18\n",
              "3239  2.5  2.07  1.0  1.000000e+17  1.000000e+19\n",
              "\n",
              "[3240 rows x 5 columns]"
            ],
            "text/html": [
              "\n",
              "  <div id=\"df-315a595f-6c35-47ae-ba5e-56716aa76d81\" class=\"colab-df-container\">\n",
              "    <div>\n",
              "<style scoped>\n",
              "    .dataframe tbody tr th:only-of-type {\n",
              "        vertical-align: middle;\n",
              "    }\n",
              "\n",
              "    .dataframe tbody tr th {\n",
              "        vertical-align: top;\n",
              "    }\n",
              "\n",
              "    .dataframe thead th {\n",
              "        text-align: right;\n",
              "    }\n",
              "</style>\n",
              "<table border=\"1\" class=\"dataframe\">\n",
              "  <thead>\n",
              "    <tr style=\"text-align: right;\">\n",
              "      <th></th>\n",
              "      <th>Br</th>\n",
              "      <th>Eg</th>\n",
              "      <th>t</th>\n",
              "      <th>Nt</th>\n",
              "      <th>Nd</th>\n",
              "    </tr>\n",
              "  </thead>\n",
              "  <tbody>\n",
              "    <tr>\n",
              "      <th>0</th>\n",
              "      <td>0.0</td>\n",
              "      <td>1.55</td>\n",
              "      <td>0.3</td>\n",
              "      <td>1.000000e+12</td>\n",
              "      <td>1.000000e+14</td>\n",
              "    </tr>\n",
              "    <tr>\n",
              "      <th>1</th>\n",
              "      <td>0.0</td>\n",
              "      <td>1.55</td>\n",
              "      <td>0.3</td>\n",
              "      <td>1.000000e+12</td>\n",
              "      <td>1.000000e+15</td>\n",
              "    </tr>\n",
              "    <tr>\n",
              "      <th>2</th>\n",
              "      <td>0.0</td>\n",
              "      <td>1.55</td>\n",
              "      <td>0.3</td>\n",
              "      <td>1.000000e+12</td>\n",
              "      <td>1.000000e+16</td>\n",
              "    </tr>\n",
              "    <tr>\n",
              "      <th>3</th>\n",
              "      <td>0.0</td>\n",
              "      <td>1.55</td>\n",
              "      <td>0.3</td>\n",
              "      <td>1.000000e+12</td>\n",
              "      <td>1.000000e+17</td>\n",
              "    </tr>\n",
              "    <tr>\n",
              "      <th>4</th>\n",
              "      <td>0.0</td>\n",
              "      <td>1.55</td>\n",
              "      <td>0.3</td>\n",
              "      <td>1.000000e+12</td>\n",
              "      <td>1.000000e+18</td>\n",
              "    </tr>\n",
              "    <tr>\n",
              "      <th>...</th>\n",
              "      <td>...</td>\n",
              "      <td>...</td>\n",
              "      <td>...</td>\n",
              "      <td>...</td>\n",
              "      <td>...</td>\n",
              "    </tr>\n",
              "    <tr>\n",
              "      <th>3235</th>\n",
              "      <td>2.5</td>\n",
              "      <td>2.07</td>\n",
              "      <td>1.0</td>\n",
              "      <td>1.000000e+17</td>\n",
              "      <td>1.000000e+15</td>\n",
              "    </tr>\n",
              "    <tr>\n",
              "      <th>3236</th>\n",
              "      <td>2.5</td>\n",
              "      <td>2.07</td>\n",
              "      <td>1.0</td>\n",
              "      <td>1.000000e+17</td>\n",
              "      <td>1.000000e+16</td>\n",
              "    </tr>\n",
              "    <tr>\n",
              "      <th>3237</th>\n",
              "      <td>2.5</td>\n",
              "      <td>2.07</td>\n",
              "      <td>1.0</td>\n",
              "      <td>1.000000e+17</td>\n",
              "      <td>1.000000e+17</td>\n",
              "    </tr>\n",
              "    <tr>\n",
              "      <th>3238</th>\n",
              "      <td>2.5</td>\n",
              "      <td>2.07</td>\n",
              "      <td>1.0</td>\n",
              "      <td>1.000000e+17</td>\n",
              "      <td>1.000000e+18</td>\n",
              "    </tr>\n",
              "    <tr>\n",
              "      <th>3239</th>\n",
              "      <td>2.5</td>\n",
              "      <td>2.07</td>\n",
              "      <td>1.0</td>\n",
              "      <td>1.000000e+17</td>\n",
              "      <td>1.000000e+19</td>\n",
              "    </tr>\n",
              "  </tbody>\n",
              "</table>\n",
              "<p>3240 rows × 5 columns</p>\n",
              "</div>\n",
              "    <div class=\"colab-df-buttons\">\n",
              "\n",
              "  <div class=\"colab-df-container\">\n",
              "    <button class=\"colab-df-convert\" onclick=\"convertToInteractive('df-315a595f-6c35-47ae-ba5e-56716aa76d81')\"\n",
              "            title=\"Convert this dataframe to an interactive table.\"\n",
              "            style=\"display:none;\">\n",
              "\n",
              "  <svg xmlns=\"http://www.w3.org/2000/svg\" height=\"24px\" viewBox=\"0 -960 960 960\">\n",
              "    <path d=\"M120-120v-720h720v720H120Zm60-500h600v-160H180v160Zm220 220h160v-160H400v160Zm0 220h160v-160H400v160ZM180-400h160v-160H180v160Zm440 0h160v-160H620v160ZM180-180h160v-160H180v160Zm440 0h160v-160H620v160Z\"/>\n",
              "  </svg>\n",
              "    </button>\n",
              "\n",
              "  <style>\n",
              "    .colab-df-container {\n",
              "      display:flex;\n",
              "      gap: 12px;\n",
              "    }\n",
              "\n",
              "    .colab-df-convert {\n",
              "      background-color: #E8F0FE;\n",
              "      border: none;\n",
              "      border-radius: 50%;\n",
              "      cursor: pointer;\n",
              "      display: none;\n",
              "      fill: #1967D2;\n",
              "      height: 32px;\n",
              "      padding: 0 0 0 0;\n",
              "      width: 32px;\n",
              "    }\n",
              "\n",
              "    .colab-df-convert:hover {\n",
              "      background-color: #E2EBFA;\n",
              "      box-shadow: 0px 1px 2px rgba(60, 64, 67, 0.3), 0px 1px 3px 1px rgba(60, 64, 67, 0.15);\n",
              "      fill: #174EA6;\n",
              "    }\n",
              "\n",
              "    .colab-df-buttons div {\n",
              "      margin-bottom: 4px;\n",
              "    }\n",
              "\n",
              "    [theme=dark] .colab-df-convert {\n",
              "      background-color: #3B4455;\n",
              "      fill: #D2E3FC;\n",
              "    }\n",
              "\n",
              "    [theme=dark] .colab-df-convert:hover {\n",
              "      background-color: #434B5C;\n",
              "      box-shadow: 0px 1px 3px 1px rgba(0, 0, 0, 0.15);\n",
              "      filter: drop-shadow(0px 1px 2px rgba(0, 0, 0, 0.3));\n",
              "      fill: #FFFFFF;\n",
              "    }\n",
              "  </style>\n",
              "\n",
              "    <script>\n",
              "      const buttonEl =\n",
              "        document.querySelector('#df-315a595f-6c35-47ae-ba5e-56716aa76d81 button.colab-df-convert');\n",
              "      buttonEl.style.display =\n",
              "        google.colab.kernel.accessAllowed ? 'block' : 'none';\n",
              "\n",
              "      async function convertToInteractive(key) {\n",
              "        const element = document.querySelector('#df-315a595f-6c35-47ae-ba5e-56716aa76d81');\n",
              "        const dataTable =\n",
              "          await google.colab.kernel.invokeFunction('convertToInteractive',\n",
              "                                                    [key], {});\n",
              "        if (!dataTable) return;\n",
              "\n",
              "        const docLinkHtml = 'Like what you see? Visit the ' +\n",
              "          '<a target=\"_blank\" href=https://colab.research.google.com/notebooks/data_table.ipynb>data table notebook</a>'\n",
              "          + ' to learn more about interactive tables.';\n",
              "        element.innerHTML = '';\n",
              "        dataTable['output_type'] = 'display_data';\n",
              "        await google.colab.output.renderOutput(dataTable, element);\n",
              "        const docLink = document.createElement('div');\n",
              "        docLink.innerHTML = docLinkHtml;\n",
              "        element.appendChild(docLink);\n",
              "      }\n",
              "    </script>\n",
              "  </div>\n",
              "\n",
              "\n",
              "<div id=\"df-419e7176-85f8-4b7e-a2e7-4c267d240ab6\">\n",
              "  <button class=\"colab-df-quickchart\" onclick=\"quickchart('df-419e7176-85f8-4b7e-a2e7-4c267d240ab6')\"\n",
              "            title=\"Suggest charts\"\n",
              "            style=\"display:none;\">\n",
              "\n",
              "<svg xmlns=\"http://www.w3.org/2000/svg\" height=\"24px\"viewBox=\"0 0 24 24\"\n",
              "     width=\"24px\">\n",
              "    <g>\n",
              "        <path d=\"M19 3H5c-1.1 0-2 .9-2 2v14c0 1.1.9 2 2 2h14c1.1 0 2-.9 2-2V5c0-1.1-.9-2-2-2zM9 17H7v-7h2v7zm4 0h-2V7h2v10zm4 0h-2v-4h2v4z\"/>\n",
              "    </g>\n",
              "</svg>\n",
              "  </button>\n",
              "\n",
              "<style>\n",
              "  .colab-df-quickchart {\n",
              "      --bg-color: #E8F0FE;\n",
              "      --fill-color: #1967D2;\n",
              "      --hover-bg-color: #E2EBFA;\n",
              "      --hover-fill-color: #174EA6;\n",
              "      --disabled-fill-color: #AAA;\n",
              "      --disabled-bg-color: #DDD;\n",
              "  }\n",
              "\n",
              "  [theme=dark] .colab-df-quickchart {\n",
              "      --bg-color: #3B4455;\n",
              "      --fill-color: #D2E3FC;\n",
              "      --hover-bg-color: #434B5C;\n",
              "      --hover-fill-color: #FFFFFF;\n",
              "      --disabled-bg-color: #3B4455;\n",
              "      --disabled-fill-color: #666;\n",
              "  }\n",
              "\n",
              "  .colab-df-quickchart {\n",
              "    background-color: var(--bg-color);\n",
              "    border: none;\n",
              "    border-radius: 50%;\n",
              "    cursor: pointer;\n",
              "    display: none;\n",
              "    fill: var(--fill-color);\n",
              "    height: 32px;\n",
              "    padding: 0;\n",
              "    width: 32px;\n",
              "  }\n",
              "\n",
              "  .colab-df-quickchart:hover {\n",
              "    background-color: var(--hover-bg-color);\n",
              "    box-shadow: 0 1px 2px rgba(60, 64, 67, 0.3), 0 1px 3px 1px rgba(60, 64, 67, 0.15);\n",
              "    fill: var(--button-hover-fill-color);\n",
              "  }\n",
              "\n",
              "  .colab-df-quickchart-complete:disabled,\n",
              "  .colab-df-quickchart-complete:disabled:hover {\n",
              "    background-color: var(--disabled-bg-color);\n",
              "    fill: var(--disabled-fill-color);\n",
              "    box-shadow: none;\n",
              "  }\n",
              "\n",
              "  .colab-df-spinner {\n",
              "    border: 2px solid var(--fill-color);\n",
              "    border-color: transparent;\n",
              "    border-bottom-color: var(--fill-color);\n",
              "    animation:\n",
              "      spin 1s steps(1) infinite;\n",
              "  }\n",
              "\n",
              "  @keyframes spin {\n",
              "    0% {\n",
              "      border-color: transparent;\n",
              "      border-bottom-color: var(--fill-color);\n",
              "      border-left-color: var(--fill-color);\n",
              "    }\n",
              "    20% {\n",
              "      border-color: transparent;\n",
              "      border-left-color: var(--fill-color);\n",
              "      border-top-color: var(--fill-color);\n",
              "    }\n",
              "    30% {\n",
              "      border-color: transparent;\n",
              "      border-left-color: var(--fill-color);\n",
              "      border-top-color: var(--fill-color);\n",
              "      border-right-color: var(--fill-color);\n",
              "    }\n",
              "    40% {\n",
              "      border-color: transparent;\n",
              "      border-right-color: var(--fill-color);\n",
              "      border-top-color: var(--fill-color);\n",
              "    }\n",
              "    60% {\n",
              "      border-color: transparent;\n",
              "      border-right-color: var(--fill-color);\n",
              "    }\n",
              "    80% {\n",
              "      border-color: transparent;\n",
              "      border-right-color: var(--fill-color);\n",
              "      border-bottom-color: var(--fill-color);\n",
              "    }\n",
              "    90% {\n",
              "      border-color: transparent;\n",
              "      border-bottom-color: var(--fill-color);\n",
              "    }\n",
              "  }\n",
              "</style>\n",
              "\n",
              "  <script>\n",
              "    async function quickchart(key) {\n",
              "      const quickchartButtonEl =\n",
              "        document.querySelector('#' + key + ' button');\n",
              "      quickchartButtonEl.disabled = true;  // To prevent multiple clicks.\n",
              "      quickchartButtonEl.classList.add('colab-df-spinner');\n",
              "      try {\n",
              "        const charts = await google.colab.kernel.invokeFunction(\n",
              "            'suggestCharts', [key], {});\n",
              "      } catch (error) {\n",
              "        console.error('Error during call to suggestCharts:', error);\n",
              "      }\n",
              "      quickchartButtonEl.classList.remove('colab-df-spinner');\n",
              "      quickchartButtonEl.classList.add('colab-df-quickchart-complete');\n",
              "    }\n",
              "    (() => {\n",
              "      let quickchartButtonEl =\n",
              "        document.querySelector('#df-419e7176-85f8-4b7e-a2e7-4c267d240ab6 button');\n",
              "      quickchartButtonEl.style.display =\n",
              "        google.colab.kernel.accessAllowed ? 'block' : 'none';\n",
              "    })();\n",
              "  </script>\n",
              "</div>\n",
              "\n",
              "  <div id=\"id_387ac3ed-a823-4f0f-a3c0-e7e220945bc0\">\n",
              "    <style>\n",
              "      .colab-df-generate {\n",
              "        background-color: #E8F0FE;\n",
              "        border: none;\n",
              "        border-radius: 50%;\n",
              "        cursor: pointer;\n",
              "        display: none;\n",
              "        fill: #1967D2;\n",
              "        height: 32px;\n",
              "        padding: 0 0 0 0;\n",
              "        width: 32px;\n",
              "      }\n",
              "\n",
              "      .colab-df-generate:hover {\n",
              "        background-color: #E2EBFA;\n",
              "        box-shadow: 0px 1px 2px rgba(60, 64, 67, 0.3), 0px 1px 3px 1px rgba(60, 64, 67, 0.15);\n",
              "        fill: #174EA6;\n",
              "      }\n",
              "\n",
              "      [theme=dark] .colab-df-generate {\n",
              "        background-color: #3B4455;\n",
              "        fill: #D2E3FC;\n",
              "      }\n",
              "\n",
              "      [theme=dark] .colab-df-generate:hover {\n",
              "        background-color: #434B5C;\n",
              "        box-shadow: 0px 1px 3px 1px rgba(0, 0, 0, 0.15);\n",
              "        filter: drop-shadow(0px 1px 2px rgba(0, 0, 0, 0.3));\n",
              "        fill: #FFFFFF;\n",
              "      }\n",
              "    </style>\n",
              "    <button class=\"colab-df-generate\" onclick=\"generateWithVariable('dfx')\"\n",
              "            title=\"Generate code using this dataframe.\"\n",
              "            style=\"display:none;\">\n",
              "\n",
              "  <svg xmlns=\"http://www.w3.org/2000/svg\" height=\"24px\"viewBox=\"0 0 24 24\"\n",
              "       width=\"24px\">\n",
              "    <path d=\"M7,19H8.4L18.45,9,17,7.55,7,17.6ZM5,21V16.75L18.45,3.32a2,2,0,0,1,2.83,0l1.4,1.43a1.91,1.91,0,0,1,.58,1.4,1.91,1.91,0,0,1-.58,1.4L9.25,21ZM18.45,9,17,7.55Zm-12,3A5.31,5.31,0,0,0,4.9,8.1,5.31,5.31,0,0,0,1,6.5,5.31,5.31,0,0,0,4.9,4.9,5.31,5.31,0,0,0,6.5,1,5.31,5.31,0,0,0,8.1,4.9,5.31,5.31,0,0,0,12,6.5,5.46,5.46,0,0,0,6.5,12Z\"/>\n",
              "  </svg>\n",
              "    </button>\n",
              "    <script>\n",
              "      (() => {\n",
              "      const buttonEl =\n",
              "        document.querySelector('#id_387ac3ed-a823-4f0f-a3c0-e7e220945bc0 button.colab-df-generate');\n",
              "      buttonEl.style.display =\n",
              "        google.colab.kernel.accessAllowed ? 'block' : 'none';\n",
              "\n",
              "      buttonEl.onclick = () => {\n",
              "        google.colab.notebook.generateWithVariable('dfx');\n",
              "      }\n",
              "      })();\n",
              "    </script>\n",
              "  </div>\n",
              "\n",
              "    </div>\n",
              "  </div>\n"
            ],
            "application/vnd.google.colaboratory.intrinsic+json": {
              "type": "dataframe",
              "variable_name": "dfx",
              "summary": "{\n  \"name\": \"dfx\",\n  \"rows\": 3240,\n  \"fields\": [\n    {\n      \"column\": \"Br\",\n      \"properties\": {\n        \"dtype\": \"number\",\n        \"std\": 0.8540443709718846,\n        \"min\": 0.0,\n        \"max\": 2.5,\n        \"num_unique_values\": 6,\n        \"samples\": [\n          0.0,\n          0.5,\n          2.5\n        ],\n        \"semantic_type\": \"\",\n        \"description\": \"\"\n      }\n    },\n    {\n      \"column\": \"Eg\",\n      \"properties\": {\n        \"dtype\": \"number\",\n        \"std\": 0.17776006738307676,\n        \"min\": 1.55,\n        \"max\": 2.07,\n        \"num_unique_values\": 6,\n        \"samples\": [\n          1.55,\n          1.65,\n          2.07\n        ],\n        \"semantic_type\": \"\",\n        \"description\": \"\"\n      }\n    },\n    {\n      \"column\": \"t\",\n      \"properties\": {\n        \"dtype\": \"number\",\n        \"std\": 0.21605803480935593,\n        \"min\": 0.3,\n        \"max\": 1.0,\n        \"num_unique_values\": 15,\n        \"samples\": [\n          0.75,\n          0.85,\n          0.3\n        ],\n        \"semantic_type\": \"\",\n        \"description\": \"\"\n      }\n    },\n    {\n      \"column\": \"Nt\",\n      \"properties\": {\n        \"dtype\": \"number\",\n        \"std\": 3.661940365693553e+16,\n        \"min\": 1000000000000.0,\n        \"max\": 1e+17,\n        \"num_unique_values\": 6,\n        \"samples\": [\n          1000000000000.0,\n          10000000000000.0,\n          1e+17\n        ],\n        \"semantic_type\": \"\",\n        \"description\": \"\"\n      }\n    },\n    {\n      \"column\": \"Nd\",\n      \"properties\": {\n        \"dtype\": \"number\",\n        \"std\": 3.661940365693507e+18,\n        \"min\": 100000000000000.0,\n        \"max\": 1e+19,\n        \"num_unique_values\": 6,\n        \"samples\": [\n          100000000000000.0,\n          1000000000000000.0,\n          1e+19\n        ],\n        \"semantic_type\": \"\",\n        \"description\": \"\"\n      }\n    }\n  ]\n}"
            }
          },
          "metadata": {},
          "execution_count": 4
        }
      ]
    },
    {
      "cell_type": "markdown",
      "source": [
        "#Supervised Learning"
      ],
      "metadata": {
        "id": "1AlsCBl86S8z"
      }
    },
    {
      "cell_type": "markdown",
      "source": [
        "##Random Forest Algorithm Training"
      ],
      "metadata": {
        "id": "dNXAEz8VqFba"
      }
    },
    {
      "cell_type": "code",
      "source": [
        "from sklearn.tree import DecisionTreeRegressor\n",
        "from sklearn.ensemble import RandomForestRegressor\n",
        "\n",
        "#Efficiency Model\n",
        "X_train1, X_test1, y_train1, y_test1 = train_test_split(X, y_eta, test_size=0.2, random_state=100)\n",
        "rf_eta = RandomForestRegressor(random_state=100)\n",
        "rf_eta.fit(X_train1, y_train1)\n",
        "mse_scores1 = cross_val_score(estimator=rf_eta, X=X_train1, y=y_train1, cv=5, scoring='neg_mean_squared_error')\n",
        "rmse_scores1 = np.sqrt(-mse_scores1)\n",
        "\n",
        "# Print results\n",
        "print(\"RMSE_eta: {:.4f}\".format(rmse_scores1.mean()))\n",
        "print(\"Standard_Deviation_eta: {:.4f}\".format(rmse_scores1.std()))\n"
      ],
      "metadata": {
        "colab": {
          "base_uri": "https://localhost:8080/"
        },
        "id": "-EZYxWCt3XfI",
        "outputId": "e4fffa21-a83b-4cde-dc4d-9e6ecb81df03"
      },
      "execution_count": null,
      "outputs": [
        {
          "output_type": "stream",
          "name": "stdout",
          "text": [
            "RMSE_eta: 0.2534\n",
            "Standard_Deviation_eta: 0.0348\n"
          ]
        }
      ]
    },
    {
      "cell_type": "code",
      "source": [
        "#Voc Model\n",
        "X_train2, X_test2, y_train2, y_test2 = train_test_split(X, y_voc, test_size=0.2,  random_state=100)\n",
        "rf_voc = RandomForestRegressor(random_state=100)\n",
        "rf_voc.fit(X_train2, y_train2)\n",
        "\n",
        "# Calculate cross-validated RMSE\n",
        "mse_scores2 = cross_val_score(estimator=rf_voc, X=X_train2, y=y_train2, cv=5, scoring='neg_mean_squared_error')\n",
        "rmse_scores2 = np.sqrt(-mse_scores2)\n",
        "print(\"RMSE_voc: {:.4f}\".format(rmse_scores2.mean()))\n",
        "print(\"Standard_Deviation_voc: {:.4f}\".format(rmse_scores2.std()))"
      ],
      "metadata": {
        "colab": {
          "base_uri": "https://localhost:8080/"
        },
        "id": "7bk4_kTvsRvI",
        "outputId": "7cc0935f-7330-46a8-b19d-6f05268920a7"
      },
      "execution_count": null,
      "outputs": [
        {
          "output_type": "stream",
          "name": "stdout",
          "text": [
            "RMSE_voc: 0.0094\n",
            "Standard_Deviation_voc: 0.0009\n"
          ]
        }
      ]
    },
    {
      "cell_type": "code",
      "source": [
        "#Jsc Model\n",
        "X_train3, X_test3, y_train3, y_test3 = train_test_split(X, y_jsc, test_size=0.2,  random_state=100)\n",
        "rf_jsc = RandomForestRegressor(random_state=100)\n",
        "rf_jsc.fit(X_train3, y_train3)\n",
        "\n",
        "# Calculate cross-validated RMSE\n",
        "mse_scores3 = cross_val_score(estimator=rf_jsc, X=X_train3, y=y_train3, cv=5, scoring='neg_mean_squared_error')\n",
        "rmse_scores3 = np.sqrt(-mse_scores3)\n",
        "print(\"RMSE_jsc: {:.4f}\".format(rmse_scores3.mean()))\n",
        "print(\"Standard_Deviation_jsc: {:.4f}\".format(rmse_scores3.std()))"
      ],
      "metadata": {
        "colab": {
          "base_uri": "https://localhost:8080/"
        },
        "id": "ILOCFqY3tDxM",
        "outputId": "d16849b3-46bf-47b0-be02-0815aafb26fe"
      },
      "execution_count": null,
      "outputs": [
        {
          "output_type": "stream",
          "name": "stdout",
          "text": [
            "RMSE_jsc: 0.3777\n",
            "Standard_Deviation_jsc: 0.0119\n"
          ]
        }
      ]
    },
    {
      "cell_type": "code",
      "source": [
        "#FF Model\n",
        "X_train4, X_test4, y_train4, y_test4 = train_test_split(X, y_ff, test_size=0.2,  random_state=100)\n",
        "rf_ff = RandomForestRegressor(random_state=100)\n",
        "rf_ff.fit(X_train4, y_train4)\n",
        "\n",
        "# Calculate cross-validated RMSE\n",
        "mse_scores4 = cross_val_score(estimator=rf_ff, X=X_train4, y=y_train4, cv=5, scoring='neg_mean_squared_error')\n",
        "rmse_scores4 = np.sqrt(-mse_scores4)\n",
        "print(\"RMSE_ff: {:.4f}\".format(rmse_scores4.mean()))\n",
        "print(\"Standard_Deviation_ff: {:.4f}\".format(rmse_scores4.std()))"
      ],
      "metadata": {
        "colab": {
          "base_uri": "https://localhost:8080/"
        },
        "id": "-NMtxrBVtpV3",
        "outputId": "f845aedf-13f1-45a4-dc4d-87d45a5690ad"
      },
      "execution_count": null,
      "outputs": [
        {
          "output_type": "stream",
          "name": "stdout",
          "text": [
            "RMSE_ff: 1.4359\n",
            "Standard_Deviation_ff: 0.2067\n"
          ]
        }
      ]
    },
    {
      "cell_type": "markdown",
      "source": [
        "##Prediction on Test set"
      ],
      "metadata": {
        "id": "NqQbZutuvgG8"
      }
    },
    {
      "cell_type": "code",
      "source": [
        "# Predict on the test set\n",
        "y_pred1 = rf_eta.predict(X_test1)\n",
        "y_pred1 = y_pred1.reshape(len(y_pred1), 1)\n",
        "\n",
        "# Calculate correlation coefficient (R value)\n",
        "r_value1 = np.corrcoef(y_test1.squeeze(), y_pred1.squeeze())[0, 1]\n",
        "\n",
        "# Calculate evaluation metrics\n",
        "print(\"R² on Test Set:\", r2_score(y_test1, y_pred1))\n",
        "print(\"R value:\", r_value1)\n",
        "print(\"MAE on Test Set:\", mean_absolute_error(y_test1, y_pred1))\n",
        "print(\"MSE on Test Set:\", mean_squared_error(y_test1, y_pred1))\n",
        "print(\"RMSE on Test Set:\", np.sqrt(mean_squared_error(y_test1, y_pred1)))"
      ],
      "metadata": {
        "colab": {
          "base_uri": "https://localhost:8080/"
        },
        "id": "WU0TEu1J3jzf",
        "outputId": "f81d2c99-964a-4857-e20e-fcbc32e3061d"
      },
      "execution_count": null,
      "outputs": [
        {
          "output_type": "stream",
          "name": "stdout",
          "text": [
            "R² on Test Set: 0.9993698604196765\n",
            "R value: 0.9996896533066483\n",
            "MAE on Test Set: 0.11653037345679045\n",
            "MSE on Test Set: 0.03893664182306213\n",
            "RMSE on Test Set: 0.19732369807770717\n"
          ]
        }
      ]
    },
    {
      "cell_type": "code",
      "source": [
        "np.set_printoptions(precision=2, suppress=True)\n",
        "print(np.concatenate((y_pred1.reshape(len(y_pred1),1), y_test1.reshape(len(y_test1),1)),1))"
      ],
      "metadata": {
        "colab": {
          "base_uri": "https://localhost:8080/"
        },
        "id": "vg6tZ7tR4Sk-",
        "outputId": "adc07db2-eff3-4cc5-87f6-574b7f0cf24a"
      },
      "execution_count": null,
      "outputs": [
        {
          "output_type": "stream",
          "name": "stdout",
          "text": [
            "[[14.34 14.4 ]\n",
            " [13.17 12.9 ]\n",
            " [25.01 25.2 ]\n",
            " ...\n",
            " [ 5.03  4.97]\n",
            " [ 1.61  1.79]\n",
            " [ 0.06  0.06]]\n"
          ]
        }
      ]
    },
    {
      "cell_type": "code",
      "source": [
        "#Voc on test set\n",
        "y_pred2=rf_voc.predict(X_test2)\n",
        "y_pred2=y_pred2.reshape(len(y_pred2),1)\n",
        "r_value2 = np.corrcoef(y_test2.squeeze(), y_pred2.squeeze())[0, 1]\n",
        "\n",
        "# Calculate metrics on the test set\n",
        "print(\"R2 on Test Set:\", r2_score(y_test2, y_pred2))\n",
        "print(\"R value:\", r_value2)\n",
        "print(\"MAE on Test Set:\", mean_absolute_error(y_test2, y_pred2))\n",
        "print(\"MSE on Test Set:\", mean_squared_error(y_test2, y_pred2))\n",
        "print(\"RMSE on Test Set:\", np.sqrt(mean_squared_error(y_test2, y_pred2)))"
      ],
      "metadata": {
        "colab": {
          "base_uri": "https://localhost:8080/"
        },
        "id": "fPh1Y4UjwFmJ",
        "outputId": "2379647a-7383-4228-9a34-b513988e3fe5"
      },
      "execution_count": null,
      "outputs": [
        {
          "output_type": "stream",
          "name": "stdout",
          "text": [
            "R2 on Test Set: 0.9975222165955607\n",
            "R value: 0.9988157657402331\n",
            "MAE on Test Set: 0.004674058641975508\n",
            "MSE on Test Set: 6.750866867283895e-05\n",
            "RMSE on Test Set: 0.008216365904269293\n"
          ]
        }
      ]
    },
    {
      "cell_type": "code",
      "source": [
        "np.set_printoptions(precision=2,suppress=True)\n",
        "print(np.concatenate((y_pred2.reshape(len(y_pred2),1), y_test2.reshape(len(y_test2),1)),1))"
      ],
      "metadata": {
        "colab": {
          "base_uri": "https://localhost:8080/"
        },
        "id": "7HQaUvOhwhq_",
        "outputId": "6363427e-6221-4623-a71f-20024c45ac2e"
      },
      "execution_count": null,
      "outputs": [
        {
          "output_type": "stream",
          "name": "stdout",
          "text": [
            "[[1.11 1.11]\n",
            " [1.27 1.27]\n",
            " [1.29 1.29]\n",
            " ...\n",
            " [1.11 1.1 ]\n",
            " [1.01 1.01]\n",
            " [0.73 0.7 ]]\n"
          ]
        }
      ]
    },
    {
      "cell_type": "code",
      "source": [
        "#Jsc on Test set\n",
        "y_pred3=rf_jsc.predict(X_test3)\n",
        "y_pred3=y_pred3.reshape(len(y_pred3),1)\n",
        "r_value3 = np.corrcoef(y_test3.squeeze(), y_pred3.squeeze())[0, 1]\n",
        "\n",
        "# Calculate metrics on the test set\n",
        "print(\"R2 on Test Set:\", r2_score(y_test3, y_pred3))\n",
        "print(\"R value:\", r_value3)\n",
        "print(\"MAE on Test Set:\", mean_absolute_error(y_test3, y_pred3))\n",
        "print(\"RMSE on Test Set:\", np.sqrt(mean_squared_error(y_test3, y_pred3)))"
      ],
      "metadata": {
        "colab": {
          "base_uri": "https://localhost:8080/"
        },
        "id": "qr9To93Zwr4v",
        "outputId": "4b136a8b-e938-475f-c828-0e6bfbb25507"
      },
      "execution_count": null,
      "outputs": [
        {
          "output_type": "stream",
          "name": "stdout",
          "text": [
            "R2 on Test Set: 0.9983182722230259\n",
            "R value: 0.9991633797129291\n",
            "MAE on Test Set: 0.17517642901234592\n",
            "RMSE on Test Set: 0.31710279068091823\n"
          ]
        }
      ]
    },
    {
      "cell_type": "code",
      "source": [
        "print(np.concatenate((y_pred3.reshape(len(y_pred3),1), y_test3.reshape(len(y_test3),1)),1))"
      ],
      "metadata": {
        "colab": {
          "base_uri": "https://localhost:8080/"
        },
        "id": "JzJ_ijrAwzlt",
        "outputId": "65fce04d-dbd6-4393-f720-cea6db05f32a"
      },
      "execution_count": null,
      "outputs": [
        {
          "output_type": "stream",
          "name": "stdout",
          "text": [
            "[[19.6  19.9 ]\n",
            " [12.86 12.6 ]\n",
            " [22.65 22.6 ]\n",
            " ...\n",
            " [10.35 10.3 ]\n",
            " [ 3.56  3.68]\n",
            " [ 0.31  0.29]]\n"
          ]
        }
      ]
    },
    {
      "cell_type": "code",
      "source": [
        "#ff on Test set\n",
        "y_pred4 = rf_ff.predict(X_test4)\n",
        "y_pred4 = y_pred4.reshape(len(y_pred4), 1)\n",
        "r_value4 = np.corrcoef(y_test4.squeeze(), y_pred4.squeeze())[0, 1]\n",
        "\n",
        "# Calculate metrics on the test set\n",
        "print(\"R2 on Test Set:\", r2_score(y_test4, y_pred4))\n",
        "print(\"R value:\", r_value4)\n",
        "print(\"MAE on Test Set:\", mean_absolute_error(y_test4, y_pred4))\n",
        "print(\"MSE on Test Set:\", mean_squared_error(y_test4, y_pred4))\n",
        "print(\"RMSE on Test Set:\", np.sqrt(mean_squared_error(y_test4, y_pred4)))"
      ],
      "metadata": {
        "colab": {
          "base_uri": "https://localhost:8080/"
        },
        "id": "P0nbhPnSw6Va",
        "outputId": "545b431c-f38e-4a65-8f72-3229b313cc98"
      },
      "execution_count": null,
      "outputs": [
        {
          "output_type": "stream",
          "name": "stdout",
          "text": [
            "R2 on Test Set: 0.9976252795353108\n",
            "R value: 0.9988203053962224\n",
            "MAE on Test Set: 0.6383601851851815\n",
            "MSE on Test Set: 1.3965007341975304\n",
            "RMSE on Test Set: 1.1817363217729793\n"
          ]
        }
      ]
    },
    {
      "cell_type": "code",
      "source": [
        "np.set_printoptions(precision=2, suppress=True)\n",
        "print(np.concatenate((y_pred4.reshape(len(y_pred4),1), y_test4.reshape(len(y_test4),1)),1))"
      ],
      "metadata": {
        "colab": {
          "base_uri": "https://localhost:8080/"
        },
        "id": "T7BxGwAnxHrS",
        "outputId": "0edd29aa-cb6e-457c-b650-4757058d6d86"
      },
      "execution_count": null,
      "outputs": [
        {
          "output_type": "stream",
          "name": "stdout",
          "text": [
            "[[66.13 65.6 ]\n",
            " [80.72 80.8 ]\n",
            " [86.23 86.3 ]\n",
            " ...\n",
            " [41.78 43.5 ]\n",
            " [48.   48.1 ]\n",
            " [28.57 29.2 ]]\n"
          ]
        }
      ]
    },
    {
      "cell_type": "markdown",
      "source": [
        "#Verification with few Experimental data"
      ],
      "metadata": {
        "id": "IJJqXrEuLHEf"
      }
    },
    {
      "cell_type": "markdown",
      "source": [
        "##Cs0.17FA0.83PbI3 DOI: 10.1002/adfm.201806479"
      ],
      "metadata": {
        "id": "LmltdYmQwhty"
      }
    },
    {
      "cell_type": "code",
      "source": [
        "import numpy as np\n",
        "\n",
        "material = \"Cs0.17FA0.83PbI2.6Br0.4\"\n",
        "bandgap = 1.56 #1.63064 #1.56\n",
        "defect = 1e14\n",
        "donor_density = 1e16\n",
        "Br = 0\n",
        "thickness = 0.5 # Single thickness value\n",
        "\n",
        "# Create the NumPy array with a single row\n",
        "arr = np.array([\n",
        "    [material, Br, bandgap, thickness, defect, donor_density]\n",
        "], dtype=object)  # Use object dtype to handle mixed types\n",
        "\n",
        "# Display the array\n",
        "print(arr)"
      ],
      "metadata": {
        "colab": {
          "base_uri": "https://localhost:8080/"
        },
        "id": "ZG923QVnLNZe",
        "outputId": "8a22d71c-664d-4d28-c65c-1d20c813dcfa"
      },
      "execution_count": null,
      "outputs": [
        {
          "output_type": "stream",
          "name": "stdout",
          "text": [
            "[['Cs0.17FA0.83PbI2.6Br0.4' 0 1.56 0.5 100000000000000.0 1e+16]]\n"
          ]
        }
      ]
    },
    {
      "cell_type": "code",
      "source": [
        "arr_numeric = arr[:, 1:].astype(float)  # Convert values to float for ML model\n",
        "\n",
        "# Predict the parameters\n",
        "eff_arr = rf_eta.predict(arr_numeric)\n",
        "voc_arr = rf_voc.predict(arr_numeric)\n",
        "jsc_arr = rf_jsc.predict(arr_numeric)\n",
        "ff_arr = rf_ff.predict(arr_numeric)\n",
        "\n",
        "# Display the results\n",
        "print(\"Efficiency:\", eff_arr)\n",
        "print(\"Voc:\", voc_arr)\n",
        "print(\"Jsc:\", jsc_arr)\n",
        "print(\"Fill Factor:\", ff_arr)"
      ],
      "metadata": {
        "colab": {
          "base_uri": "https://localhost:8080/"
        },
        "id": "plj8nBAAOTGO",
        "outputId": "6b53b5d2-423e-4dbe-da1f-9cc80ea22ee1"
      },
      "execution_count": null,
      "outputs": [
        {
          "output_type": "stream",
          "name": "stdout",
          "text": [
            "Efficiency: [17.84]\n",
            "Voc: [1.12]\n",
            "Jsc: [22.02]\n",
            "Fill Factor: [72.01]\n"
          ]
        }
      ]
    },
    {
      "cell_type": "markdown",
      "source": [
        "##Cs0.17FA0.83PbI2.6Br0.4 DOI: 10.1002/smll.201803350"
      ],
      "metadata": {
        "id": "PkTNe3ZrxEkR"
      }
    },
    {
      "cell_type": "code",
      "source": [
        "material = \"Cs0.17FA0.83PbI2.6Br0.4\"\n",
        "bandgap = 1.63\n",
        "defect = 1e14\n",
        "donor_density = 1e16\n",
        "Br = 0.4\n",
        "thickness = 0.5 # Single thickness value\n",
        "\n",
        "# Create the NumPy array with a single row\n",
        "arr = np.array([\n",
        "    [material, Br, bandgap, thickness, defect, donor_density]\n",
        "], dtype=object)  # Use object dtype to handle mixed types\n",
        "\n",
        "# Display the array\n",
        "print(arr)"
      ],
      "metadata": {
        "colab": {
          "base_uri": "https://localhost:8080/"
        },
        "id": "iPY785vVxHzB",
        "outputId": "8ffd8ed1-03eb-49bb-f535-974d1f176668"
      },
      "execution_count": null,
      "outputs": [
        {
          "output_type": "stream",
          "name": "stdout",
          "text": [
            "[['Cs0.17FA0.83PbI2.6Br0.4' 0.4 1.63 0.5 100000000000000.0 1e+16]]\n"
          ]
        }
      ]
    },
    {
      "cell_type": "code",
      "source": [
        "arr_numeric = arr[:, 1:].astype(float)  # Convert values to float for ML model\n",
        "\n",
        "# Predict the parameters\n",
        "eff_arr = rf_eta.predict(arr_numeric)\n",
        "voc_arr = rf_voc.predict(arr_numeric)\n",
        "jsc_arr = rf_jsc.predict(arr_numeric)\n",
        "ff_arr = rf_ff.predict(arr_numeric)\n",
        "\n",
        "# Display the results\n",
        "print(\"Efficiency:\", eff_arr)\n",
        "print(\"Voc:\", voc_arr)\n",
        "print(\"Jsc:\", jsc_arr)\n",
        "print(\"Fill Factor:\", ff_arr)"
      ],
      "metadata": {
        "colab": {
          "base_uri": "https://localhost:8080/"
        },
        "id": "77ENIjlyxL3i",
        "outputId": "ac732be1-b0b5-4725-e8af-d8f523b82bae"
      },
      "execution_count": null,
      "outputs": [
        {
          "output_type": "stream",
          "name": "stdout",
          "text": [
            "Efficiency: [14.15]\n",
            "Voc: [1.14]\n",
            "Jsc: [19.22]\n",
            "Fill Factor: [63.72]\n"
          ]
        }
      ]
    },
    {
      "cell_type": "markdown",
      "source": [
        "#KNN Algorithm"
      ],
      "metadata": {
        "id": "6Usmxt3Fywnh"
      }
    },
    {
      "cell_type": "code",
      "source": [
        "from sklearn.neighbors import KNeighborsRegressor\n",
        "from sklearn.model_selection import train_test_split, cross_val_score\n",
        "\n",
        "# Efficiency Model using KNN\n",
        "X_train_knn, X_test_knn, y_train_knn, y_test_knn = train_test_split(X, y_eta, test_size=0.2, random_state=100)\n",
        "knn_eta = KNeighborsRegressor(n_neighbors=5)\n",
        "knn_eta.fit(X_train_knn, y_train_knn)\n",
        "mse_scores_knn = cross_val_score(estimator=knn_eta, X=X_train_knn, y=y_train_knn, cv=5, scoring='neg_mean_squared_error')\n",
        "rmse_scores_knn = np.sqrt(-mse_scores_knn)\n",
        "\n",
        "# Print results\n",
        "print(\"RMSE_eta_KNN: {:.4f}\".format(rmse_scores_knn.mean()))\n",
        "print(\"Standard_Deviation_eta_KNN: {:.4f}\".format(rmse_scores_knn.std()))\n"
      ],
      "metadata": {
        "colab": {
          "base_uri": "https://localhost:8080/"
        },
        "id": "S2xIXGr7y0Xi",
        "outputId": "1be1a06d-2bfe-43ad-cf7d-dfecb9c7e5f9"
      },
      "execution_count": null,
      "outputs": [
        {
          "output_type": "stream",
          "name": "stdout",
          "text": [
            "RMSE_eta_KNN: 0.9245\n",
            "Standard_Deviation_eta_KNN: 0.0670\n"
          ]
        }
      ]
    },
    {
      "cell_type": "code",
      "source": [
        "# Voc Model using KNN\n",
        "X_train_knn_voc, X_test_knn_voc, y_train_knn_voc, y_test_knn_voc = train_test_split(X, y_voc, test_size=0.2, random_state=100)\n",
        "knn_voc = KNeighborsRegressor(n_neighbors=5)\n",
        "knn_voc.fit(X_train_knn_voc, y_train_knn_voc)\n",
        "\n",
        "# Calculate cross-validated RMSE\n",
        "mse_scores_knn_voc = cross_val_score(estimator=knn_voc, X=X_train_knn_voc, y=y_train_knn_voc, cv=5, scoring='neg_mean_squared_error')\n",
        "rmse_scores_knn_voc = np.sqrt(-mse_scores_knn_voc)\n",
        "\n",
        "# Print results\n",
        "print(\"RMSE_voc_KNN: {:.4f}\".format(rmse_scores_knn_voc.mean()))\n",
        "print(\"Standard_Deviation_voc_KNN: {:.4f}\".format(rmse_scores_knn_voc.std()))"
      ],
      "metadata": {
        "colab": {
          "base_uri": "https://localhost:8080/"
        },
        "id": "M7VengBvzkoU",
        "outputId": "6365fe50-3e21-49b6-e8c4-48e4d207bba5"
      },
      "execution_count": null,
      "outputs": [
        {
          "output_type": "stream",
          "name": "stdout",
          "text": [
            "RMSE_voc_KNN: 0.0532\n",
            "Standard_Deviation_voc_KNN: 0.0041\n"
          ]
        }
      ]
    },
    {
      "cell_type": "code",
      "source": [
        "# Jsc Model using KNN\n",
        "X_train_knn_jsc, X_test_knn_jsc, y_train_knn_jsc, y_test_knn_jsc = train_test_split(X, y_jsc, test_size=0.2, random_state=100)\n",
        "knn_jsc = KNeighborsRegressor(n_neighbors=5)\n",
        "knn_jsc.fit(X_train_knn_jsc, y_train_knn_jsc)\n",
        "\n",
        "# Calculate cross-validated RMSE\n",
        "mse_scores_knn_jsc = cross_val_score(estimator=knn_jsc, X=X_train_knn_jsc, y=y_train_knn_jsc, cv=5, scoring='neg_mean_squared_error')\n",
        "rmse_scores_knn_jsc = np.sqrt(-mse_scores_knn_jsc)\n",
        "\n",
        "# Print results\n",
        "print(\"RMSE_jsc_KNN: {:.4f}\".format(rmse_scores_knn_jsc.mean()))\n",
        "print(\"Standard_Deviation_jsc_KNN: {:.4f}\".format(rmse_scores_knn_jsc.std()))\n"
      ],
      "metadata": {
        "colab": {
          "base_uri": "https://localhost:8080/"
        },
        "id": "YZuXtCQtz0-1",
        "outputId": "287aaaa0-0127-4f25-cd4a-92ffdac37f2e"
      },
      "execution_count": null,
      "outputs": [
        {
          "output_type": "stream",
          "name": "stdout",
          "text": [
            "RMSE_jsc_KNN: 1.1260\n",
            "Standard_Deviation_jsc_KNN: 0.1017\n"
          ]
        }
      ]
    },
    {
      "cell_type": "code",
      "source": [
        "# FF Model using KNN\n",
        "X_train_knn_ff, X_test_knn_ff, y_train_knn_ff, y_test_knn_ff = train_test_split(X, y_ff, test_size=0.2, random_state=100)\n",
        "knn_ff = KNeighborsRegressor(n_neighbors=5)\n",
        "knn_ff.fit(X_train_knn_ff, y_train_knn_ff)\n",
        "\n",
        "# Calculate cross-validated RMSE\n",
        "mse_scores_knn_ff = cross_val_score(estimator=knn_ff, X=X_train_knn_ff, y=y_train_knn_ff, cv=5, scoring='neg_mean_squared_error')\n",
        "rmse_scores_knn_ff = np.sqrt(-mse_scores_knn_ff)\n",
        "\n",
        "# Print results\n",
        "print(\"RMSE_ff_KNN: {:.4f}\".format(rmse_scores_knn_ff.mean()))\n",
        "print(\"Standard_Deviation_ff_KNN: {:.4f}\".format(rmse_scores_knn_ff.std()))\n"
      ],
      "metadata": {
        "colab": {
          "base_uri": "https://localhost:8080/"
        },
        "id": "QFOGRNEb0HCx",
        "outputId": "dfd9f798-bcf3-4023-adab-a2f2adbcf0ea"
      },
      "execution_count": null,
      "outputs": [
        {
          "output_type": "stream",
          "name": "stdout",
          "text": [
            "RMSE_ff_KNN: 2.7737\n",
            "Standard_Deviation_ff_KNN: 0.3186\n"
          ]
        }
      ]
    },
    {
      "cell_type": "markdown",
      "source": [
        "##KNN on test set"
      ],
      "metadata": {
        "id": "QKMrrPRD1aW7"
      }
    },
    {
      "cell_type": "code",
      "source": [
        "# Predict on the test set using KNN for Efficiency Model\n",
        "y_pred_knn_eta = knn_eta.predict(X_test_knn)\n",
        "y_pred_knn_eta = y_pred_knn_eta.reshape(len(y_pred_knn_eta), 1)\n",
        "\n",
        "# Calculate correlation coefficient (R value)\n",
        "r_value_knn_eta = np.corrcoef(y_test_knn.squeeze(), y_pred_knn_eta.squeeze())[0, 1]\n",
        "\n",
        "# Calculate evaluation metrics\n",
        "print(\"R² on Test Set (KNN_eta):\", r2_score(y_test_knn, y_pred_knn_eta))\n",
        "print(\"R value (KNN_eta):\", r_value_knn_eta)\n",
        "print(\"MAE on Test Set (KNN_eta):\", mean_absolute_error(y_test_knn, y_pred_knn_eta))\n",
        "print(\"MSE on Test Set (KNN_eta):\", mean_squared_error(y_test_knn, y_pred_knn_eta))\n",
        "print(\"RMSE on Test Set (KNN_eta):\", np.sqrt(mean_squared_error(y_test_knn, y_pred_knn_eta)))"
      ],
      "metadata": {
        "colab": {
          "base_uri": "https://localhost:8080/"
        },
        "id": "71wY_Sra0H1S",
        "outputId": "f552e2b1-c07e-4e9a-946b-6ca4e85806ca"
      },
      "execution_count": null,
      "outputs": [
        {
          "output_type": "stream",
          "name": "stdout",
          "text": [
            "R² on Test Set (KNN_eta): 0.9901577215206784\n",
            "R value (KNN_eta): 0.9951098029873472\n",
            "MAE on Test Set (KNN_eta): 0.43361194444444445\n",
            "MSE on Test Set (KNN_eta): 0.6081593409438272\n",
            "RMSE on Test Set (KNN_eta): 0.7798457161155834\n"
          ]
        }
      ]
    },
    {
      "cell_type": "code",
      "source": [
        "# Predict on the test set using KNN for Voc Model\n",
        "y_pred_knn_voc = knn_voc.predict(X_test_knn_voc)\n",
        "y_pred_knn_voc = y_pred_knn_voc.reshape(len(y_pred_knn_voc), 1)\n",
        "\n",
        "# Calculate correlation coefficient (R value)\n",
        "r_value_knn_voc = np.corrcoef(y_test_knn_voc.squeeze(), y_pred_knn_voc.squeeze())[0, 1]\n",
        "\n",
        "# Calculate evaluation metrics\n",
        "print(\"R² on Test Set (KNN_voc):\", r2_score(y_test_knn_voc, y_pred_knn_voc))\n",
        "print(\"R value (KNN_voc):\", r_value_knn_voc)\n",
        "print(\"MAE on Test Set (KNN_voc):\", mean_absolute_error(y_test_knn_voc, y_pred_knn_voc))\n",
        "print(\"MSE on Test Set (KNN_voc):\", mean_squared_error(y_test_knn_voc, y_pred_knn_voc))\n",
        "print(\"RMSE on Test Set (KNN_voc):\", np.sqrt(mean_squared_error(y_test_knn_voc, y_pred_knn_voc)))\n"
      ],
      "metadata": {
        "colab": {
          "base_uri": "https://localhost:8080/"
        },
        "id": "WP1p5o_m0Vbl",
        "outputId": "6e90452f-59a7-4b3c-a7ef-958a318a0da9"
      },
      "execution_count": null,
      "outputs": [
        {
          "output_type": "stream",
          "name": "stdout",
          "text": [
            "R² on Test Set (KNN_voc): 0.9367180340966581\n",
            "R value (KNN_voc): 0.9687011130713536\n",
            "MAE on Test Set (KNN_voc): 0.01727160493827161\n",
            "MSE on Test Set (KNN_voc): 0.0017241544444444442\n",
            "RMSE on Test Set (KNN_voc): 0.04152293877418173\n"
          ]
        }
      ]
    },
    {
      "cell_type": "code",
      "source": [
        "# Predict on the test set using KNN for Jsc Model\n",
        "y_pred_knn_jsc = knn_jsc.predict(X_test_knn_jsc)\n",
        "y_pred_knn_jsc = y_pred_knn_jsc.reshape(len(y_pred_knn_jsc), 1)\n",
        "\n",
        "# Calculate correlation coefficient (R value)\n",
        "r_value_knn_jsc = np.corrcoef(y_test_knn_jsc.squeeze(), y_pred_knn_jsc.squeeze())[0, 1]\n",
        "\n",
        "# Calculate evaluation metrics\n",
        "print(\"R² on Test Set (KNN_jsc):\", r2_score(y_test_knn_jsc, y_pred_knn_jsc))\n",
        "print(\"R value (KNN_jsc):\", r_value_knn_jsc)\n",
        "print(\"MAE on Test Set (KNN_jsc):\", mean_absolute_error(y_test_knn_jsc, y_pred_knn_jsc))\n",
        "print(\"RMSE on Test Set (KNN_jsc):\", np.sqrt(mean_squared_error(y_test_knn_jsc, y_pred_knn_jsc)))\n"
      ],
      "metadata": {
        "colab": {
          "base_uri": "https://localhost:8080/"
        },
        "id": "KlxsBCPs02w5",
        "outputId": "f2741d40-5d9d-4e1c-e558-88c1b9cbb3c9"
      },
      "execution_count": null,
      "outputs": [
        {
          "output_type": "stream",
          "name": "stdout",
          "text": [
            "R² on Test Set (KNN_jsc): 0.986425725617272\n",
            "R value (KNN_jsc): 0.9932678728927428\n",
            "MAE on Test Set (KNN_jsc): 0.522102098765432\n",
            "RMSE on Test Set (KNN_jsc): 0.900908173576688\n"
          ]
        }
      ]
    },
    {
      "cell_type": "code",
      "source": [
        "# Predict on the test set using KNN for FF Model\n",
        "y_pred_knn_ff = knn_ff.predict(X_test_knn_ff)\n",
        "y_pred_knn_ff = y_pred_knn_ff.reshape(len(y_pred_knn_ff), 1)\n",
        "\n",
        "# Calculate correlation coefficient (R value)\n",
        "r_value_knn_ff = np.corrcoef(y_test_knn_ff.squeeze(), y_pred_knn_ff.squeeze())[0, 1]\n",
        "\n",
        "# Calculate evaluation metrics\n",
        "print(\"R² on Test Set (KNN_ff):\", r2_score(y_test_knn_ff, y_pred_knn_ff))\n",
        "print(\"R value (KNN_ff):\", r_value_knn_ff)\n",
        "print(\"MAE on Test Set (KNN_ff):\", mean_absolute_error(y_test_knn_ff, y_pred_knn_ff))\n",
        "print(\"MSE on Test Set (KNN_ff):\", mean_squared_error(y_test_knn_ff, y_pred_knn_ff))\n",
        "print(\"RMSE on Test Set (KNN_ff):\", np.sqrt(mean_squared_error(y_test_knn_ff, y_pred_knn_ff)))"
      ],
      "metadata": {
        "colab": {
          "base_uri": "https://localhost:8080/"
        },
        "id": "S-xskh2J1GsQ",
        "outputId": "58a912b0-e8ea-4dc8-c7eb-3caf6b5ffa76"
      },
      "execution_count": null,
      "outputs": [
        {
          "output_type": "stream",
          "name": "stdout",
          "text": [
            "R² on Test Set (KNN_ff): 0.9893689701304654\n",
            "R value (KNN_ff): 0.9948107927812324\n",
            "MAE on Test Set (KNN_ff): 1.2281543209876544\n",
            "MSE on Test Set (KNN_ff): 6.251784679012344\n",
            "RMSE on Test Set (KNN_ff): 2.500356910325473\n"
          ]
        }
      ]
    },
    {
      "cell_type": "markdown",
      "source": [
        "#Gradient Boosting model"
      ],
      "metadata": {
        "id": "NMPLjssZ136M"
      }
    },
    {
      "cell_type": "code",
      "source": [
        "from sklearn.ensemble import GradientBoostingRegressor\n",
        "from sklearn.metrics import r2_score, mean_absolute_error, mean_squared_error\n",
        "from sklearn.model_selection import train_test_split, cross_val_score\n",
        "import numpy as np\n",
        "\n",
        "# Efficiency Model using Gradient Boosting\n",
        "X_train_gbr_eta, X_test_gbr_eta, y_train_gbr_eta, y_test_gbr_eta = train_test_split(X, y_eta, test_size=0.2, random_state=100)\n",
        "gbr_eta = GradientBoostingRegressor(random_state=100)\n",
        "gbr_eta.fit(X_train_gbr_eta, y_train_gbr_eta)\n",
        "\n",
        "# Cross-validation RMSE\n",
        "mse_scores_gbr_eta = cross_val_score(estimator=gbr_eta, X=X_train_gbr_eta, y=y_train_gbr_eta, cv=5, scoring='neg_mean_squared_error')\n",
        "rmse_scores_gbr_eta = np.sqrt(-mse_scores_gbr_eta)\n",
        "\n",
        "# Print cross-validation results\n",
        "print(\"RMSE_eta_GBR: {:.4f}\".format(rmse_scores_gbr_eta.mean()))\n",
        "print(\"Standard_Deviation_eta_GBR: {:.4f}\".format(rmse_scores_gbr_eta.std()))\n",
        "\n",
        "# Predict on test set\n",
        "y_pred_gbr_eta = gbr_eta.predict(X_test_gbr_eta).reshape(-1, 1)\n",
        "\n",
        "# Compute evaluation metrics\n",
        "r_value_gbr_eta = np.corrcoef(y_test_gbr_eta.squeeze(), y_pred_gbr_eta.squeeze())[0, 1]\n",
        "\n",
        "print(\"R² on Test Set (GBR_eta):\", r2_score(y_test_gbr_eta, y_pred_gbr_eta))\n",
        "print(\"R value (GBR_eta):\", r_value_gbr_eta)\n",
        "print(\"MAE on Test Set (GBR_eta):\", mean_absolute_error(y_test_gbr_eta, y_pred_gbr_eta))\n",
        "print(\"MSE on Test Set (GBR_eta):\", mean_squared_error(y_test_gbr_eta, y_pred_gbr_eta))\n",
        "print(\"RMSE on Test Set (GBR_eta):\", np.sqrt(mean_squared_error(y_test_gbr_eta, y_pred_gbr_eta)))\n"
      ],
      "metadata": {
        "colab": {
          "base_uri": "https://localhost:8080/"
        },
        "id": "JTmkQFKh1Qgn",
        "outputId": "449cc57a-b377-49b5-b3a4-76a405a2b353"
      },
      "execution_count": null,
      "outputs": [
        {
          "output_type": "stream",
          "name": "stdout",
          "text": [
            "RMSE_eta_GBR: 0.7843\n",
            "Standard_Deviation_eta_GBR: 0.0419\n",
            "R² on Test Set (GBR_eta): 0.9886348787173767\n",
            "R value (GBR_eta): 0.994311021584332\n",
            "MAE on Test Set (GBR_eta): 0.575766330310366\n",
            "MSE on Test Set (GBR_eta): 0.702256564220209\n",
            "RMSE on Test Set (GBR_eta): 0.8380074965179064\n"
          ]
        }
      ]
    },
    {
      "cell_type": "code",
      "source": [
        "# Voc Model using Gradient Boosting\n",
        "X_train_gbr_voc, X_test_gbr_voc, y_train_gbr_voc, y_test_gbr_voc = train_test_split(X, y_voc, test_size=0.2, random_state=100)\n",
        "gbr_voc = GradientBoostingRegressor(random_state=100)\n",
        "gbr_voc.fit(X_train_gbr_voc, y_train_gbr_voc)\n",
        "\n",
        "# Cross-validation RMSE\n",
        "mse_scores_gbr_voc = cross_val_score(estimator=gbr_voc, X=X_train_gbr_voc, y=y_train_gbr_voc, cv=5, scoring='neg_mean_squared_error')\n",
        "rmse_scores_gbr_voc = np.sqrt(-mse_scores_gbr_voc)\n",
        "\n",
        "# Print cross-validation results\n",
        "print(\"RMSE_voc_GBR: {:.4f}\".format(rmse_scores_gbr_voc.mean()))\n",
        "print(\"Standard_Deviation_voc_GBR: {:.4f}\".format(rmse_scores_gbr_voc.std()))\n",
        "\n",
        "# Predict on test set\n",
        "y_pred_gbr_voc = gbr_voc.predict(X_test_gbr_voc).reshape(-1, 1)\n",
        "\n",
        "# Compute evaluation metrics\n",
        "r_value_gbr_voc = np.corrcoef(y_test_gbr_voc.squeeze(), y_pred_gbr_voc.squeeze())[0, 1]\n",
        "\n",
        "print(\"R² on Test Set (GBR_voc):\", r2_score(y_test_gbr_voc, y_pred_gbr_voc))\n",
        "print(\"R value (GBR_voc):\", r_value_gbr_voc)\n",
        "print(\"MAE on Test Set (GBR_voc):\", mean_absolute_error(y_test_gbr_voc, y_pred_gbr_voc))\n",
        "print(\"MSE on Test Set (GBR_voc):\", mean_squared_error(y_test_gbr_voc, y_pred_gbr_voc))\n",
        "print(\"RMSE on Test Set (GBR_voc):\", np.sqrt(mean_squared_error(y_test_gbr_voc, y_pred_gbr_voc)))"
      ],
      "metadata": {
        "colab": {
          "base_uri": "https://localhost:8080/"
        },
        "id": "1xK_OfWz19al",
        "outputId": "3a7e6377-0a78-48c4-b045-d3b4694c14db"
      },
      "execution_count": null,
      "outputs": [
        {
          "output_type": "stream",
          "name": "stdout",
          "text": [
            "RMSE_voc_GBR: 0.0302\n",
            "Standard_Deviation_voc_GBR: 0.0018\n",
            "R² on Test Set (GBR_voc): 0.9608821911157993\n",
            "R value (GBR_voc): 0.982463871686448\n",
            "MAE on Test Set (GBR_voc): 0.020619112705731597\n",
            "MSE on Test Set (GBR_voc): 0.0010657877498249674\n",
            "RMSE on Test Set (GBR_voc): 0.032646404852984465\n"
          ]
        }
      ]
    },
    {
      "cell_type": "code",
      "source": [
        "# Jsc Model using Gradient Boosting\n",
        "X_train_gbr_jsc, X_test_gbr_jsc, y_train_gbr_jsc, y_test_gbr_jsc = train_test_split(X, y_jsc, test_size=0.2, random_state=100)\n",
        "gbr_jsc = GradientBoostingRegressor(random_state=100)\n",
        "gbr_jsc.fit(X_train_gbr_jsc, y_train_gbr_jsc)\n",
        "\n",
        "# Cross-validation RMSE\n",
        "mse_scores_gbr_jsc = cross_val_score(estimator=gbr_jsc, X=X_train_gbr_jsc, y=y_train_gbr_jsc, cv=5, scoring='neg_mean_squared_error')\n",
        "rmse_scores_gbr_jsc = np.sqrt(-mse_scores_gbr_jsc)\n",
        "\n",
        "# Print cross-validation results\n",
        "print(\"RMSE_jsc_GBR: {:.4f}\".format(rmse_scores_gbr_jsc.mean()))\n",
        "print(\"Standard_Deviation_jsc_GBR: {:.4f}\".format(rmse_scores_gbr_jsc.std()))\n",
        "\n",
        "# Predict on test set\n",
        "y_pred_gbr_jsc = gbr_jsc.predict(X_test_gbr_jsc).reshape(-1, 1)\n",
        "\n",
        "# Compute evaluation metrics\n",
        "r_value_gbr_jsc = np.corrcoef(y_test_gbr_jsc.squeeze(), y_pred_gbr_jsc.squeeze())[0, 1]\n",
        "\n",
        "print(\"R² on Test Set (GBR_jsc):\", r2_score(y_test_gbr_jsc, y_pred_gbr_jsc))\n",
        "print(\"R value (GBR_jsc):\", r_value_gbr_jsc)\n",
        "print(\"MAE on Test Set (GBR_jsc):\", mean_absolute_error(y_test_gbr_jsc, y_pred_gbr_jsc))\n",
        "print(\"MSE on Test Set (GBR_jsc):\", mean_squared_error(y_test_gbr_jsc, y_pred_gbr_jsc))\n",
        "print(\"RMSE on Test Set (GBR_jsc):\", np.sqrt(mean_squared_error(y_test_gbr_jsc, y_pred_gbr_jsc)))\n"
      ],
      "metadata": {
        "colab": {
          "base_uri": "https://localhost:8080/"
        },
        "id": "AiEtcvie2D_O",
        "outputId": "baa99642-2f3b-4ffd-90f1-3241588e3024"
      },
      "execution_count": null,
      "outputs": [
        {
          "output_type": "stream",
          "name": "stdout",
          "text": [
            "RMSE_jsc_GBR: 1.2796\n",
            "Standard_Deviation_jsc_GBR: 0.0462\n",
            "R² on Test Set (GBR_jsc): 0.9730160975828372\n",
            "R value (GBR_jsc): 0.9864994609298909\n",
            "MAE on Test Set (GBR_jsc): 0.8955875099106628\n",
            "MSE on Test Set (GBR_jsc): 1.6134265093712712\n",
            "RMSE on Test Set (GBR_jsc): 1.270207270240283\n"
          ]
        }
      ]
    },
    {
      "cell_type": "code",
      "source": [
        "# FF Model using Gradient Boosting\n",
        "X_train_gbr_ff, X_test_gbr_ff, y_train_gbr_ff, y_test_gbr_ff = train_test_split(X, y_ff, test_size=0.2, random_state=100)\n",
        "gbr_ff = GradientBoostingRegressor(random_state=100)\n",
        "gbr_ff.fit(X_train_gbr_ff, y_train_gbr_ff)\n",
        "\n",
        "# Cross-validation RMSE\n",
        "mse_scores_gbr_ff = cross_val_score(estimator=gbr_ff, X=X_train_gbr_ff, y=y_train_gbr_ff, cv=5, scoring='neg_mean_squared_error')\n",
        "rmse_scores_gbr_ff = np.sqrt(-mse_scores_gbr_ff)\n",
        "\n",
        "# Print cross-validation results\n",
        "print(\"RMSE_ff_GBR: {:.4f}\".format(rmse_scores_gbr_ff.mean()))\n",
        "print(\"Standard_Deviation_ff_GBR: {:.4f}\".format(rmse_scores_gbr_ff.std()))\n",
        "\n",
        "# Predict on test set\n",
        "y_pred_gbr_ff = gbr_ff.predict(X_test_gbr_ff).reshape(-1, 1)\n",
        "\n",
        "# Compute evaluation metrics\n",
        "r_value_gbr_ff = np.corrcoef(y_test_gbr_ff.squeeze(), y_pred_gbr_ff.squeeze())[0, 1]\n",
        "\n",
        "print(\"R² on Test Set (GBR_ff):\", r2_score(y_test_gbr_ff, y_pred_gbr_ff))\n",
        "print(\"R value (GBR_ff):\", r_value_gbr_ff)\n",
        "print(\"MAE on Test Set (GBR_ff):\", mean_absolute_error(y_test_gbr_ff, y_pred_gbr_ff))\n",
        "print(\"MSE on Test Set (GBR_ff):\", mean_squared_error(y_test_gbr_ff, y_pred_gbr_ff))\n",
        "print(\"RMSE on Test Set (GBR_ff):\", np.sqrt(mean_squared_error(y_test_gbr_ff, y_pred_gbr_ff)))\n"
      ],
      "metadata": {
        "colab": {
          "base_uri": "https://localhost:8080/"
        },
        "id": "QocfM0hR2IY0",
        "outputId": "349c3c80-acf4-40ad-d867-85bb7f97dc34"
      },
      "execution_count": null,
      "outputs": [
        {
          "output_type": "stream",
          "name": "stdout",
          "text": [
            "RMSE_ff_GBR: 2.8243\n",
            "Standard_Deviation_ff_GBR: 0.0201\n",
            "R² on Test Set (GBR_ff): 0.9866351062223742\n",
            "R value (GBR_ff): 0.9934175560660813\n",
            "MAE on Test Set (GBR_ff): 1.9990148223744346\n",
            "MSE on Test Set (GBR_ff): 7.859486727154407\n",
            "RMSE on Test Set (GBR_ff): 2.8034776131002737\n"
          ]
        }
      ]
    },
    {
      "cell_type": "code",
      "source": [],
      "metadata": {
        "id": "6vSdjSHI2Mx6"
      },
      "execution_count": null,
      "outputs": []
    }
  ]
}